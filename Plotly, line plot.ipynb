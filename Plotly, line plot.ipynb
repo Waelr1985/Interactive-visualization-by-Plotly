{
 "cells": [
  {
   "cell_type": "code",
   "execution_count": 1,
   "metadata": {},
   "outputs": [],
   "source": [
    "import numpy as np "
   ]
  },
  {
   "cell_type": "code",
   "execution_count": 2,
   "metadata": {},
   "outputs": [],
   "source": [
    "x = np.linspace(0, 1, 100)"
   ]
  },
  {
   "cell_type": "code",
   "execution_count": 3,
   "metadata": {},
   "outputs": [
    {
     "data": {
      "text/plain": [
       "array([0.        , 0.01010101, 0.02020202, 0.03030303, 0.04040404,\n",
       "       0.05050505, 0.06060606, 0.07070707, 0.08080808, 0.09090909,\n",
       "       0.1010101 , 0.11111111, 0.12121212, 0.13131313, 0.14141414,\n",
       "       0.15151515, 0.16161616, 0.17171717, 0.18181818, 0.19191919,\n",
       "       0.2020202 , 0.21212121, 0.22222222, 0.23232323, 0.24242424,\n",
       "       0.25252525, 0.26262626, 0.27272727, 0.28282828, 0.29292929,\n",
       "       0.3030303 , 0.31313131, 0.32323232, 0.33333333, 0.34343434,\n",
       "       0.35353535, 0.36363636, 0.37373737, 0.38383838, 0.39393939,\n",
       "       0.4040404 , 0.41414141, 0.42424242, 0.43434343, 0.44444444,\n",
       "       0.45454545, 0.46464646, 0.47474747, 0.48484848, 0.49494949,\n",
       "       0.50505051, 0.51515152, 0.52525253, 0.53535354, 0.54545455,\n",
       "       0.55555556, 0.56565657, 0.57575758, 0.58585859, 0.5959596 ,\n",
       "       0.60606061, 0.61616162, 0.62626263, 0.63636364, 0.64646465,\n",
       "       0.65656566, 0.66666667, 0.67676768, 0.68686869, 0.6969697 ,\n",
       "       0.70707071, 0.71717172, 0.72727273, 0.73737374, 0.74747475,\n",
       "       0.75757576, 0.76767677, 0.77777778, 0.78787879, 0.7979798 ,\n",
       "       0.80808081, 0.81818182, 0.82828283, 0.83838384, 0.84848485,\n",
       "       0.85858586, 0.86868687, 0.87878788, 0.88888889, 0.8989899 ,\n",
       "       0.90909091, 0.91919192, 0.92929293, 0.93939394, 0.94949495,\n",
       "       0.95959596, 0.96969697, 0.97979798, 0.98989899, 1.        ])"
      ]
     },
     "execution_count": 3,
     "metadata": {},
     "output_type": "execute_result"
    }
   ],
   "source": [
    "x "
   ]
  },
  {
   "cell_type": "code",
   "execution_count": 7,
   "metadata": {},
   "outputs": [],
   "source": [
    "y = np.random.randn(100)"
   ]
  },
  {
   "cell_type": "code",
   "execution_count": 8,
   "metadata": {},
   "outputs": [
    {
     "data": {
      "text/plain": [
       "array([ 4.72418213e-01,  5.80366997e-01, -5.19583128e-01, -1.52980627e+00,\n",
       "        6.27425476e-01,  3.75756593e-01, -2.09928676e-01,  1.27996383e-01,\n",
       "        1.57735583e+00,  1.57215418e-01, -2.04061929e+00, -1.21739201e+00,\n",
       "        1.10735752e+00,  3.78342569e-02,  4.90993703e-01, -1.85826299e+00,\n",
       "        1.05108019e+00, -9.08190507e-01, -7.24742489e-01, -1.74351795e+00,\n",
       "        1.52746081e-01, -1.74227355e+00,  3.49596946e-02, -9.93778455e-01,\n",
       "       -1.66311335e-03, -1.40044125e+00,  4.09159533e-01,  2.95117961e-01,\n",
       "       -6.06941737e-01, -9.09070754e-01,  2.42843611e-01,  3.21310086e-01,\n",
       "       -3.78512665e-01, -1.79591846e-01, -1.05048346e+00,  1.52478284e+00,\n",
       "       -2.37130071e+00, -4.31800806e-01, -1.61473138e+00,  5.85326175e-01,\n",
       "       -8.27275584e-01, -1.09217489e+00, -4.74992192e-01,  2.84699012e-01,\n",
       "       -8.07752794e-01, -1.12705876e-01,  8.30570504e-01, -1.52530139e+00,\n",
       "       -4.72465129e-01,  6.68070914e-01,  8.90891412e-03,  1.03045216e+00,\n",
       "       -3.57373810e-01,  2.12322853e-01, -5.31994636e-01, -1.54102706e+00,\n",
       "        1.66393190e-01,  2.10384534e+00, -3.52165148e-01, -6.43175791e-01,\n",
       "        7.06089418e-01,  9.94577654e-01,  2.90829574e+00,  1.90046364e-01,\n",
       "       -4.40935435e-02,  1.14515089e+00, -1.81007353e+00, -4.98472466e-01,\n",
       "        2.41813990e+00, -2.36392193e-01,  3.64721995e-01,  1.96308866e-01,\n",
       "        5.42961893e-02,  4.12876659e-01, -1.89822752e+00, -8.40292592e-01,\n",
       "        2.94473622e-01,  9.42800359e-01,  2.14508258e+00, -4.74122832e-01,\n",
       "        9.07608678e-01, -4.21444639e-01,  3.47642369e-01,  8.99595118e-01,\n",
       "        1.50663101e-02,  3.94216330e-02, -3.09282862e-01, -3.78480288e-01,\n",
       "       -1.28109320e+00,  1.11701109e-01,  1.17532571e+00,  1.92345539e+00,\n",
       "       -1.30322214e+00, -1.07649515e-01, -6.65028661e-01,  4.03452851e-01,\n",
       "       -9.14852551e-01, -8.63586498e-01,  5.81761357e-02,  7.49924817e-01])"
      ]
     },
     "execution_count": 8,
     "metadata": {},
     "output_type": "execute_result"
    }
   ],
   "source": [
    "y"
   ]
  },
  {
   "cell_type": "code",
   "execution_count": 9,
   "metadata": {},
   "outputs": [
    {
     "name": "stdout",
     "output_type": "stream",
     "text": [
      "[[8 4 7]\n",
      " [2 4 4]\n",
      " [2 7 3]]\n"
     ]
    }
   ],
   "source": [
    "a = np.random.randint(0,10,(3,3))\n",
    "print(a)"
   ]
  },
  {
   "cell_type": "code",
   "execution_count": 10,
   "metadata": {},
   "outputs": [],
   "source": [
    "import plotly.offline as pyo\n",
    "import plotly.graph_objs as go"
   ]
  },
  {
   "cell_type": "code",
   "execution_count": 12,
   "metadata": {},
   "outputs": [
    {
     "data": {
      "text/plain": [
       "'temp-plot.html'"
      ]
     },
     "execution_count": 12,
     "metadata": {},
     "output_type": "execute_result"
    }
   ],
   "source": [
    "trace0 = go.Scatter(x=x, y=y+5, mode='markers', name='markers')\n",
    "trace1 = go.Scatter(x=x, y=y, mode='lines', name='lines')\n",
    "trace2 = go.Scatter(x=x, y=y-5, mode='lines+markers', name='lines+markers')\n",
    "data = [trace0, trace1, trace2]\n",
    "layout = go.Layout(title='sample')\n",
    "fig = go.Figure(data, layout)\n",
    "pyo.plot(fig, 'sample.html')"
   ]
  },
  {
   "cell_type": "code",
   "execution_count": 13,
   "metadata": {},
   "outputs": [
    {
     "data": {
      "text/plain": [
       "'line1.html'"
      ]
     },
     "execution_count": 13,
     "metadata": {},
     "output_type": "execute_result"
    }
   ],
   "source": [
    "#######\n",
    "# This line chart displays the same data\n",
    "# three different ways along the y-axis.\n",
    "######\n",
    "import plotly.offline as pyo\n",
    "import plotly.graph_objs as go\n",
    "import numpy as np\n",
    "\n",
    "np.random.seed(56)\n",
    "x_values = np.linspace(0, 1, 100) # 100 evenly spaced values\n",
    "y_values = np.random.randn(100)   # 100 random values\n",
    "\n",
    "# create traces\n",
    "trace0 = go.Scatter(\n",
    "    x = x_values,\n",
    "    y = y_values+5,\n",
    "    mode = 'markers',\n",
    "    name = 'markers'\n",
    ")\n",
    "trace1 = go.Scatter(\n",
    "    x = x_values,\n",
    "    y = y_values,\n",
    "    mode = 'lines+markers',\n",
    "    name = 'lines+markers'\n",
    ")\n",
    "trace2 = go.Scatter(\n",
    "    x = x_values,\n",
    "    y = y_values-5,\n",
    "    mode = 'lines',\n",
    "    name = 'lines'\n",
    ")\n",
    "data = [trace0, trace1, trace2]  # assign traces to data\n",
    "layout = go.Layout(\n",
    "    title = 'Line chart showing three different modes'\n",
    ")\n",
    "fig = go.Figure(data=data,layout=layout)\n",
    "pyo.plot(fig, filename='line1.html')\n"
   ]
  },
  {
   "cell_type": "code",
   "execution_count": 15,
   "metadata": {},
   "outputs": [],
   "source": [
    "import pandas as pd \n",
    "# read a .csv file into a pandas DataFrame:\n",
    "df = pd.read_csv('c:/Users/LENOVO/Desktop/population.csv', index_col=0)\n"
   ]
  },
  {
   "cell_type": "code",
   "execution_count": 16,
   "metadata": {},
   "outputs": [
    {
     "data": {
      "text/html": [
       "<div>\n",
       "<style scoped>\n",
       "    .dataframe tbody tr th:only-of-type {\n",
       "        vertical-align: middle;\n",
       "    }\n",
       "\n",
       "    .dataframe tbody tr th {\n",
       "        vertical-align: top;\n",
       "    }\n",
       "\n",
       "    .dataframe thead th {\n",
       "        text-align: right;\n",
       "    }\n",
       "</style>\n",
       "<table border=\"1\" class=\"dataframe\">\n",
       "  <thead>\n",
       "    <tr style=\"text-align: right;\">\n",
       "      <th></th>\n",
       "      <th>PopEstimate2010</th>\n",
       "      <th>PopEstimate2011</th>\n",
       "      <th>PopEstimate2012</th>\n",
       "      <th>PopEstimate2013</th>\n",
       "      <th>PopEstimate2014</th>\n",
       "      <th>PopEstimate2015</th>\n",
       "      <th>PopEstimate2016</th>\n",
       "      <th>PopEstimate2017</th>\n",
       "    </tr>\n",
       "    <tr>\n",
       "      <th>Name</th>\n",
       "      <th></th>\n",
       "      <th></th>\n",
       "      <th></th>\n",
       "      <th></th>\n",
       "      <th></th>\n",
       "      <th></th>\n",
       "      <th></th>\n",
       "      <th></th>\n",
       "    </tr>\n",
       "  </thead>\n",
       "  <tbody>\n",
       "    <tr>\n",
       "      <th>Connecticut</th>\n",
       "      <td>3580171</td>\n",
       "      <td>3591927</td>\n",
       "      <td>3597705</td>\n",
       "      <td>3602470</td>\n",
       "      <td>3600188</td>\n",
       "      <td>3593862</td>\n",
       "      <td>3587685</td>\n",
       "      <td>3588184</td>\n",
       "    </tr>\n",
       "    <tr>\n",
       "      <th>Maine</th>\n",
       "      <td>1327568</td>\n",
       "      <td>1327968</td>\n",
       "      <td>1328101</td>\n",
       "      <td>1327975</td>\n",
       "      <td>1328903</td>\n",
       "      <td>1327787</td>\n",
       "      <td>1330232</td>\n",
       "      <td>1335907</td>\n",
       "    </tr>\n",
       "    <tr>\n",
       "      <th>Massachusetts</th>\n",
       "      <td>6564943</td>\n",
       "      <td>6612178</td>\n",
       "      <td>6659627</td>\n",
       "      <td>6711138</td>\n",
       "      <td>6757925</td>\n",
       "      <td>6794002</td>\n",
       "      <td>6823721</td>\n",
       "      <td>6859819</td>\n",
       "    </tr>\n",
       "    <tr>\n",
       "      <th>New Hampshire</th>\n",
       "      <td>1316700</td>\n",
       "      <td>1318345</td>\n",
       "      <td>1320923</td>\n",
       "      <td>1322622</td>\n",
       "      <td>1328684</td>\n",
       "      <td>1330134</td>\n",
       "      <td>1335015</td>\n",
       "      <td>1342795</td>\n",
       "    </tr>\n",
       "    <tr>\n",
       "      <th>Rhode Island</th>\n",
       "      <td>1053169</td>\n",
       "      <td>1052154</td>\n",
       "      <td>1052761</td>\n",
       "      <td>1052784</td>\n",
       "      <td>1054782</td>\n",
       "      <td>1055916</td>\n",
       "      <td>1057566</td>\n",
       "      <td>1059639</td>\n",
       "    </tr>\n",
       "    <tr>\n",
       "      <th>Vermont</th>\n",
       "      <td>625842</td>\n",
       "      <td>626210</td>\n",
       "      <td>625606</td>\n",
       "      <td>626044</td>\n",
       "      <td>625665</td>\n",
       "      <td>624455</td>\n",
       "      <td>623354</td>\n",
       "      <td>623657</td>\n",
       "    </tr>\n",
       "  </tbody>\n",
       "</table>\n",
       "</div>"
      ],
      "text/plain": [
       "               PopEstimate2010  PopEstimate2011  PopEstimate2012  \\\n",
       "Name                                                               \n",
       "Connecticut            3580171          3591927          3597705   \n",
       "Maine                  1327568          1327968          1328101   \n",
       "Massachusetts          6564943          6612178          6659627   \n",
       "New Hampshire          1316700          1318345          1320923   \n",
       "Rhode Island           1053169          1052154          1052761   \n",
       "Vermont                 625842           626210           625606   \n",
       "\n",
       "               PopEstimate2013  PopEstimate2014  PopEstimate2015  \\\n",
       "Name                                                               \n",
       "Connecticut            3602470          3600188          3593862   \n",
       "Maine                  1327975          1328903          1327787   \n",
       "Massachusetts          6711138          6757925          6794002   \n",
       "New Hampshire          1322622          1328684          1330134   \n",
       "Rhode Island           1052784          1054782          1055916   \n",
       "Vermont                 626044           625665           624455   \n",
       "\n",
       "               PopEstimate2016  PopEstimate2017  \n",
       "Name                                             \n",
       "Connecticut            3587685          3588184  \n",
       "Maine                  1330232          1335907  \n",
       "Massachusetts          6823721          6859819  \n",
       "New Hampshire          1335015          1342795  \n",
       "Rhode Island           1057566          1059639  \n",
       "Vermont                 623354           623657  "
      ]
     },
     "execution_count": 16,
     "metadata": {},
     "output_type": "execute_result"
    }
   ],
   "source": [
    "df"
   ]
  },
  {
   "cell_type": "code",
   "execution_count": 17,
   "metadata": {},
   "outputs": [
    {
     "data": {
      "text/plain": [
       "'line2.html'"
      ]
     },
     "execution_count": 17,
     "metadata": {},
     "output_type": "execute_result"
    }
   ],
   "source": [
    "# create traces\n",
    "traces = [go.Scatter(\n",
    "    x = df.columns,\n",
    "    y = df.loc[name],\n",
    "    mode = 'markers+lines',\n",
    "    name = name\n",
    ") for name in df.index]\n",
    "\n",
    "layout = go.Layout(\n",
    "    title = 'Population Estimates of the Six New England States'\n",
    ")\n",
    "\n",
    "fig = go.Figure(data=traces,layout=layout)\n",
    "pyo.plot(fig, filename='line2.html')"
   ]
  },
  {
   "cell_type": "code",
   "execution_count": 18,
   "metadata": {},
   "outputs": [],
   "source": [
    "x = df.columns"
   ]
  },
  {
   "cell_type": "code",
   "execution_count": 19,
   "metadata": {},
   "outputs": [
    {
     "data": {
      "text/plain": [
       "Index(['PopEstimate2010', 'PopEstimate2011', 'PopEstimate2012',\n",
       "       'PopEstimate2013', 'PopEstimate2014', 'PopEstimate2015',\n",
       "       'PopEstimate2016', 'PopEstimate2017'],\n",
       "      dtype='object')"
      ]
     },
     "execution_count": 19,
     "metadata": {},
     "output_type": "execute_result"
    }
   ],
   "source": [
    "x "
   ]
  },
  {
   "cell_type": "code",
   "execution_count": 24,
   "metadata": {},
   "outputs": [
    {
     "data": {
      "text/html": [
       "<div>\n",
       "<style scoped>\n",
       "    .dataframe tbody tr th:only-of-type {\n",
       "        vertical-align: middle;\n",
       "    }\n",
       "\n",
       "    .dataframe tbody tr th {\n",
       "        vertical-align: top;\n",
       "    }\n",
       "\n",
       "    .dataframe thead th {\n",
       "        text-align: right;\n",
       "    }\n",
       "</style>\n",
       "<table border=\"1\" class=\"dataframe\">\n",
       "  <thead>\n",
       "    <tr style=\"text-align: right;\">\n",
       "      <th></th>\n",
       "      <th>PopEstimate2010</th>\n",
       "      <th>PopEstimate2011</th>\n",
       "      <th>PopEstimate2012</th>\n",
       "      <th>PopEstimate2013</th>\n",
       "      <th>PopEstimate2014</th>\n",
       "      <th>PopEstimate2015</th>\n",
       "      <th>PopEstimate2016</th>\n",
       "      <th>PopEstimate2017</th>\n",
       "    </tr>\n",
       "    <tr>\n",
       "      <th>Name</th>\n",
       "      <th></th>\n",
       "      <th></th>\n",
       "      <th></th>\n",
       "      <th></th>\n",
       "      <th></th>\n",
       "      <th></th>\n",
       "      <th></th>\n",
       "      <th></th>\n",
       "    </tr>\n",
       "  </thead>\n",
       "  <tbody>\n",
       "    <tr>\n",
       "      <th>Connecticut</th>\n",
       "      <td>3580171</td>\n",
       "      <td>3591927</td>\n",
       "      <td>3597705</td>\n",
       "      <td>3602470</td>\n",
       "      <td>3600188</td>\n",
       "      <td>3593862</td>\n",
       "      <td>3587685</td>\n",
       "      <td>3588184</td>\n",
       "    </tr>\n",
       "    <tr>\n",
       "      <th>Maine</th>\n",
       "      <td>1327568</td>\n",
       "      <td>1327968</td>\n",
       "      <td>1328101</td>\n",
       "      <td>1327975</td>\n",
       "      <td>1328903</td>\n",
       "      <td>1327787</td>\n",
       "      <td>1330232</td>\n",
       "      <td>1335907</td>\n",
       "    </tr>\n",
       "    <tr>\n",
       "      <th>Massachusetts</th>\n",
       "      <td>6564943</td>\n",
       "      <td>6612178</td>\n",
       "      <td>6659627</td>\n",
       "      <td>6711138</td>\n",
       "      <td>6757925</td>\n",
       "      <td>6794002</td>\n",
       "      <td>6823721</td>\n",
       "      <td>6859819</td>\n",
       "    </tr>\n",
       "    <tr>\n",
       "      <th>New Hampshire</th>\n",
       "      <td>1316700</td>\n",
       "      <td>1318345</td>\n",
       "      <td>1320923</td>\n",
       "      <td>1322622</td>\n",
       "      <td>1328684</td>\n",
       "      <td>1330134</td>\n",
       "      <td>1335015</td>\n",
       "      <td>1342795</td>\n",
       "    </tr>\n",
       "    <tr>\n",
       "      <th>Rhode Island</th>\n",
       "      <td>1053169</td>\n",
       "      <td>1052154</td>\n",
       "      <td>1052761</td>\n",
       "      <td>1052784</td>\n",
       "      <td>1054782</td>\n",
       "      <td>1055916</td>\n",
       "      <td>1057566</td>\n",
       "      <td>1059639</td>\n",
       "    </tr>\n",
       "    <tr>\n",
       "      <th>Vermont</th>\n",
       "      <td>625842</td>\n",
       "      <td>626210</td>\n",
       "      <td>625606</td>\n",
       "      <td>626044</td>\n",
       "      <td>625665</td>\n",
       "      <td>624455</td>\n",
       "      <td>623354</td>\n",
       "      <td>623657</td>\n",
       "    </tr>\n",
       "  </tbody>\n",
       "</table>\n",
       "</div>"
      ],
      "text/plain": [
       "               PopEstimate2010  PopEstimate2011  PopEstimate2012  \\\n",
       "Name                                                               \n",
       "Connecticut            3580171          3591927          3597705   \n",
       "Maine                  1327568          1327968          1328101   \n",
       "Massachusetts          6564943          6612178          6659627   \n",
       "New Hampshire          1316700          1318345          1320923   \n",
       "Rhode Island           1053169          1052154          1052761   \n",
       "Vermont                 625842           626210           625606   \n",
       "\n",
       "               PopEstimate2013  PopEstimate2014  PopEstimate2015  \\\n",
       "Name                                                               \n",
       "Connecticut            3602470          3600188          3593862   \n",
       "Maine                  1327975          1328903          1327787   \n",
       "Massachusetts          6711138          6757925          6794002   \n",
       "New Hampshire          1322622          1328684          1330134   \n",
       "Rhode Island           1052784          1054782          1055916   \n",
       "Vermont                 626044           625665           624455   \n",
       "\n",
       "               PopEstimate2016  PopEstimate2017  \n",
       "Name                                             \n",
       "Connecticut            3587685          3588184  \n",
       "Maine                  1330232          1335907  \n",
       "Massachusetts          6823721          6859819  \n",
       "New Hampshire          1335015          1342795  \n",
       "Rhode Island           1057566          1059639  \n",
       "Vermont                 623354           623657  "
      ]
     },
     "execution_count": 24,
     "metadata": {},
     "output_type": "execute_result"
    }
   ],
   "source": [
    "df.loc[df.index]\n"
   ]
  },
  {
   "cell_type": "code",
   "execution_count": null,
   "metadata": {},
   "outputs": [],
   "source": []
  }
 ],
 "metadata": {
  "kernelspec": {
   "display_name": "Python 3",
   "language": "python",
   "name": "python3"
  },
  "language_info": {
   "codemirror_mode": {
    "name": "ipython",
    "version": 3
   },
   "file_extension": ".py",
   "mimetype": "text/x-python",
   "name": "python",
   "nbconvert_exporter": "python",
   "pygments_lexer": "ipython3",
   "version": "3.7.3"
  }
 },
 "nbformat": 4,
 "nbformat_minor": 2
}
